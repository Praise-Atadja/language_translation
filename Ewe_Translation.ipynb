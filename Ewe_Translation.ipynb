{
  "cells": [
    {
      "cell_type": "markdown",
      "metadata": {
        "id": "view-in-github",
        "colab_type": "text"
      },
      "source": [
        "<a href=\"https://colab.research.google.com/github/Praise-Atadja/language_translation/blob/main/Ewe_Translation.ipynb\" target=\"_parent\"><img src=\"https://colab.research.google.com/assets/colab-badge.svg\" alt=\"Open In Colab\"/></a>"
      ]
    },
    {
      "cell_type": "markdown",
      "metadata": {
        "id": "fTcJy1v9NU7k"
      },
      "source": [
        "# **PROJECT NAME: EWELANGUAGE TRANSLATION WITH RNNS**"
      ]
    },
    {
      "cell_type": "markdown",
      "metadata": {
        "id": "AkErK2n0NrPJ"
      },
      "source": [
        "## IMPLEMENTATION"
      ]
    },
    {
      "cell_type": "markdown",
      "metadata": {
        "id": "P0PK-s6SPfbc"
      },
      "source": [
        "The Ewe people are an African ethnic group. The largest population of Ewe people is in Ghana (3.3 million), and the second largest population in Togo (2 million). They speak the Ewe language which belongs to the Niger-Congo Gbe family of languages. They are related to other speakers of Gbe languages such as the Fon, Gen, Phla Phera, and the Aja people of Togo and [1]\n",
        "Ewe is written using the Latin alphabet to which a few letters have been added, some derived from the International Phonetic Alphabet.\n",
        "\n",
        "Ewe language is a local dialect spoken by majority of people from volta region in Ghana, West Africa. It is also popularly spoken in Togo, and in parts of Benin. Given the popularity of the language, it is imperative to have a dependable translator, which this project attempts to solve."
      ]
    },
    {
      "cell_type": "markdown",
      "metadata": {
        "id": "EKFAUYpXNkJa"
      },
      "source": [
        "## THE DATASET"
      ]
    },
    {
      "cell_type": "markdown",
      "metadata": {
        "id": "QnRV-7tZPloe"
      },
      "source": [
        "\n",
        "This dataset contains pairs of Ewe sentences as well as their English translation. The dataset can be used for research or training a language model"
      ]
    },
    {
      "cell_type": "code",
      "execution_count": 1,
      "metadata": {
        "colab": {
          "base_uri": "https://localhost:8080/"
        },
        "id": "7Tb0-tvWSVdQ",
        "outputId": "dca4961c-d234-4af3-be26-3b65bd926c36"
      },
      "outputs": [
        {
          "output_type": "stream",
          "name": "stdout",
          "text": [
            "Drive already mounted at /content/drive; to attempt to forcibly remount, call drive.mount(\"/content/drive\", force_remount=True).\n"
          ]
        }
      ],
      "source": [
        "#Import Necessary Libraries\n",
        "import collections\n",
        "from collections import Counter\n",
        "import helper\n",
        "import numpy as np\n",
        "import pandas as pd\n",
        "from sklearn.model_selection import train_test_split\n",
        "import tensorflow as tf\n",
        "from tensorflow.keras.preprocessing.sequence import pad_sequences\n",
        "from tensorflow.keras.models import Model\n",
        "from keras.preprocessing.text import Tokenizer\n",
        "from keras.preprocessing.sequence import pad_sequences\n",
        "from keras.models import Model, Sequential\n",
        "from tensorflow.keras.layers import Input, LSTM, Embedding, Dense\n",
        "from tensorflow.keras.callbacks import EarlyStopping\n",
        "from keras.optimizers import Adam\n",
        "from keras.losses import sparse_categorical_crossentropy\n",
        "from google.colab import drive\n",
        "drive.mount('/content/drive')"
      ]
    },
    {
      "cell_type": "markdown",
      "metadata": {
        "id": "Y0r8PvnXQ8WO"
      },
      "source": [
        "Loading data"
      ]
    },
    {
      "cell_type": "code",
      "execution_count": 2,
      "metadata": {
        "id": "KtNotIuUTP8N"
      },
      "outputs": [],
      "source": [
        "#load data\n",
        "def load_data():\n",
        "    # Load data\n",
        "    ewe_english_data = pd.read_csv('/content/drive/MyDrive/EWE_ENGLISH.csv')\n",
        "\n",
        "    return  ewe_english_data\n",
        "\n",
        "# Load the data\n",
        "ewe_english_data = load_data()"
      ]
    },
    {
      "cell_type": "code",
      "execution_count": 3,
      "metadata": {
        "colab": {
          "base_uri": "https://localhost:8080/",
          "height": 206
        },
        "id": "nCOQbxP8bgs9",
        "outputId": "9ae71a92-c83c-4a4e-8ff4-c622baaa718f"
      },
      "outputs": [
        {
          "output_type": "execute_result",
          "data": {
            "text/plain": [
              "   Unnamed: 0                                                EWE  \\\n",
              "0           0  Ne nyɔnu aɖe le evi dzim eye wo le kukum nɛ la...   \n",
              "1           1  Ŋkɔ sia nye na ŋkɔ si ke ame bubu tsɔna na ɖev...   \n",
              "2           2  Ame si hɔ ɖevi la ƒlela tsona ƒome bubu me alo...   \n",
              "3           3  Kɔnua wo yina ale: evinɔ si ga dzi ɖevi bubu a...   \n",
              "4           4  Ne ame aɖe vayina to afimagodzi he kɔ ɖevia la...   \n",
              "\n",
              "                                             ENGLISH  \n",
              "0  ﻿If a woman often loss his baby after he is bo...  \n",
              "1  This name comes from another person, which mea...  \n",
              "2  This person must not be part of the whole fami...  \n",
              "3  The ceremony is done as follow: the family of ...  \n",
              "4  When somebody passes through the road and find...  "
            ],
            "text/html": [
              "\n",
              "  <div id=\"df-f267f3c4-f905-4f71-a2dc-26bc336b4306\" class=\"colab-df-container\">\n",
              "    <div>\n",
              "<style scoped>\n",
              "    .dataframe tbody tr th:only-of-type {\n",
              "        vertical-align: middle;\n",
              "    }\n",
              "\n",
              "    .dataframe tbody tr th {\n",
              "        vertical-align: top;\n",
              "    }\n",
              "\n",
              "    .dataframe thead th {\n",
              "        text-align: right;\n",
              "    }\n",
              "</style>\n",
              "<table border=\"1\" class=\"dataframe\">\n",
              "  <thead>\n",
              "    <tr style=\"text-align: right;\">\n",
              "      <th></th>\n",
              "      <th>Unnamed: 0</th>\n",
              "      <th>EWE</th>\n",
              "      <th>ENGLISH</th>\n",
              "    </tr>\n",
              "  </thead>\n",
              "  <tbody>\n",
              "    <tr>\n",
              "      <th>0</th>\n",
              "      <td>0</td>\n",
              "      <td>Ne nyɔnu aɖe le evi dzim eye wo le kukum nɛ la...</td>\n",
              "      <td>﻿If a woman often loss his baby after he is bo...</td>\n",
              "    </tr>\n",
              "    <tr>\n",
              "      <th>1</th>\n",
              "      <td>1</td>\n",
              "      <td>Ŋkɔ sia nye na ŋkɔ si ke ame bubu tsɔna na ɖev...</td>\n",
              "      <td>This name comes from another person, which mea...</td>\n",
              "    </tr>\n",
              "    <tr>\n",
              "      <th>2</th>\n",
              "      <td>2</td>\n",
              "      <td>Ame si hɔ ɖevi la ƒlela tsona ƒome bubu me alo...</td>\n",
              "      <td>This person must not be part of the whole fami...</td>\n",
              "    </tr>\n",
              "    <tr>\n",
              "      <th>3</th>\n",
              "      <td>3</td>\n",
              "      <td>Kɔnua wo yina ale: evinɔ si ga dzi ɖevi bubu a...</td>\n",
              "      <td>The ceremony is done as follow: the family of ...</td>\n",
              "    </tr>\n",
              "    <tr>\n",
              "      <th>4</th>\n",
              "      <td>4</td>\n",
              "      <td>Ne ame aɖe vayina to afimagodzi he kɔ ɖevia la...</td>\n",
              "      <td>When somebody passes through the road and find...</td>\n",
              "    </tr>\n",
              "  </tbody>\n",
              "</table>\n",
              "</div>\n",
              "    <div class=\"colab-df-buttons\">\n",
              "\n",
              "  <div class=\"colab-df-container\">\n",
              "    <button class=\"colab-df-convert\" onclick=\"convertToInteractive('df-f267f3c4-f905-4f71-a2dc-26bc336b4306')\"\n",
              "            title=\"Convert this dataframe to an interactive table.\"\n",
              "            style=\"display:none;\">\n",
              "\n",
              "  <svg xmlns=\"http://www.w3.org/2000/svg\" height=\"24px\" viewBox=\"0 -960 960 960\">\n",
              "    <path d=\"M120-120v-720h720v720H120Zm60-500h600v-160H180v160Zm220 220h160v-160H400v160Zm0 220h160v-160H400v160ZM180-400h160v-160H180v160Zm440 0h160v-160H620v160ZM180-180h160v-160H180v160Zm440 0h160v-160H620v160Z\"/>\n",
              "  </svg>\n",
              "    </button>\n",
              "\n",
              "  <style>\n",
              "    .colab-df-container {\n",
              "      display:flex;\n",
              "      gap: 12px;\n",
              "    }\n",
              "\n",
              "    .colab-df-convert {\n",
              "      background-color: #E8F0FE;\n",
              "      border: none;\n",
              "      border-radius: 50%;\n",
              "      cursor: pointer;\n",
              "      display: none;\n",
              "      fill: #1967D2;\n",
              "      height: 32px;\n",
              "      padding: 0 0 0 0;\n",
              "      width: 32px;\n",
              "    }\n",
              "\n",
              "    .colab-df-convert:hover {\n",
              "      background-color: #E2EBFA;\n",
              "      box-shadow: 0px 1px 2px rgba(60, 64, 67, 0.3), 0px 1px 3px 1px rgba(60, 64, 67, 0.15);\n",
              "      fill: #174EA6;\n",
              "    }\n",
              "\n",
              "    .colab-df-buttons div {\n",
              "      margin-bottom: 4px;\n",
              "    }\n",
              "\n",
              "    [theme=dark] .colab-df-convert {\n",
              "      background-color: #3B4455;\n",
              "      fill: #D2E3FC;\n",
              "    }\n",
              "\n",
              "    [theme=dark] .colab-df-convert:hover {\n",
              "      background-color: #434B5C;\n",
              "      box-shadow: 0px 1px 3px 1px rgba(0, 0, 0, 0.15);\n",
              "      filter: drop-shadow(0px 1px 2px rgba(0, 0, 0, 0.3));\n",
              "      fill: #FFFFFF;\n",
              "    }\n",
              "  </style>\n",
              "\n",
              "    <script>\n",
              "      const buttonEl =\n",
              "        document.querySelector('#df-f267f3c4-f905-4f71-a2dc-26bc336b4306 button.colab-df-convert');\n",
              "      buttonEl.style.display =\n",
              "        google.colab.kernel.accessAllowed ? 'block' : 'none';\n",
              "\n",
              "      async function convertToInteractive(key) {\n",
              "        const element = document.querySelector('#df-f267f3c4-f905-4f71-a2dc-26bc336b4306');\n",
              "        const dataTable =\n",
              "          await google.colab.kernel.invokeFunction('convertToInteractive',\n",
              "                                                    [key], {});\n",
              "        if (!dataTable) return;\n",
              "\n",
              "        const docLinkHtml = 'Like what you see? Visit the ' +\n",
              "          '<a target=\"_blank\" href=https://colab.research.google.com/notebooks/data_table.ipynb>data table notebook</a>'\n",
              "          + ' to learn more about interactive tables.';\n",
              "        element.innerHTML = '';\n",
              "        dataTable['output_type'] = 'display_data';\n",
              "        await google.colab.output.renderOutput(dataTable, element);\n",
              "        const docLink = document.createElement('div');\n",
              "        docLink.innerHTML = docLinkHtml;\n",
              "        element.appendChild(docLink);\n",
              "      }\n",
              "    </script>\n",
              "  </div>\n",
              "\n",
              "\n",
              "<div id=\"df-3a75eb60-a82c-4abb-99ca-d14ffd81278e\">\n",
              "  <button class=\"colab-df-quickchart\" onclick=\"quickchart('df-3a75eb60-a82c-4abb-99ca-d14ffd81278e')\"\n",
              "            title=\"Suggest charts\"\n",
              "            style=\"display:none;\">\n",
              "\n",
              "<svg xmlns=\"http://www.w3.org/2000/svg\" height=\"24px\"viewBox=\"0 0 24 24\"\n",
              "     width=\"24px\">\n",
              "    <g>\n",
              "        <path d=\"M19 3H5c-1.1 0-2 .9-2 2v14c0 1.1.9 2 2 2h14c1.1 0 2-.9 2-2V5c0-1.1-.9-2-2-2zM9 17H7v-7h2v7zm4 0h-2V7h2v10zm4 0h-2v-4h2v4z\"/>\n",
              "    </g>\n",
              "</svg>\n",
              "  </button>\n",
              "\n",
              "<style>\n",
              "  .colab-df-quickchart {\n",
              "      --bg-color: #E8F0FE;\n",
              "      --fill-color: #1967D2;\n",
              "      --hover-bg-color: #E2EBFA;\n",
              "      --hover-fill-color: #174EA6;\n",
              "      --disabled-fill-color: #AAA;\n",
              "      --disabled-bg-color: #DDD;\n",
              "  }\n",
              "\n",
              "  [theme=dark] .colab-df-quickchart {\n",
              "      --bg-color: #3B4455;\n",
              "      --fill-color: #D2E3FC;\n",
              "      --hover-bg-color: #434B5C;\n",
              "      --hover-fill-color: #FFFFFF;\n",
              "      --disabled-bg-color: #3B4455;\n",
              "      --disabled-fill-color: #666;\n",
              "  }\n",
              "\n",
              "  .colab-df-quickchart {\n",
              "    background-color: var(--bg-color);\n",
              "    border: none;\n",
              "    border-radius: 50%;\n",
              "    cursor: pointer;\n",
              "    display: none;\n",
              "    fill: var(--fill-color);\n",
              "    height: 32px;\n",
              "    padding: 0;\n",
              "    width: 32px;\n",
              "  }\n",
              "\n",
              "  .colab-df-quickchart:hover {\n",
              "    background-color: var(--hover-bg-color);\n",
              "    box-shadow: 0 1px 2px rgba(60, 64, 67, 0.3), 0 1px 3px 1px rgba(60, 64, 67, 0.15);\n",
              "    fill: var(--button-hover-fill-color);\n",
              "  }\n",
              "\n",
              "  .colab-df-quickchart-complete:disabled,\n",
              "  .colab-df-quickchart-complete:disabled:hover {\n",
              "    background-color: var(--disabled-bg-color);\n",
              "    fill: var(--disabled-fill-color);\n",
              "    box-shadow: none;\n",
              "  }\n",
              "\n",
              "  .colab-df-spinner {\n",
              "    border: 2px solid var(--fill-color);\n",
              "    border-color: transparent;\n",
              "    border-bottom-color: var(--fill-color);\n",
              "    animation:\n",
              "      spin 1s steps(1) infinite;\n",
              "  }\n",
              "\n",
              "  @keyframes spin {\n",
              "    0% {\n",
              "      border-color: transparent;\n",
              "      border-bottom-color: var(--fill-color);\n",
              "      border-left-color: var(--fill-color);\n",
              "    }\n",
              "    20% {\n",
              "      border-color: transparent;\n",
              "      border-left-color: var(--fill-color);\n",
              "      border-top-color: var(--fill-color);\n",
              "    }\n",
              "    30% {\n",
              "      border-color: transparent;\n",
              "      border-left-color: var(--fill-color);\n",
              "      border-top-color: var(--fill-color);\n",
              "      border-right-color: var(--fill-color);\n",
              "    }\n",
              "    40% {\n",
              "      border-color: transparent;\n",
              "      border-right-color: var(--fill-color);\n",
              "      border-top-color: var(--fill-color);\n",
              "    }\n",
              "    60% {\n",
              "      border-color: transparent;\n",
              "      border-right-color: var(--fill-color);\n",
              "    }\n",
              "    80% {\n",
              "      border-color: transparent;\n",
              "      border-right-color: var(--fill-color);\n",
              "      border-bottom-color: var(--fill-color);\n",
              "    }\n",
              "    90% {\n",
              "      border-color: transparent;\n",
              "      border-bottom-color: var(--fill-color);\n",
              "    }\n",
              "  }\n",
              "</style>\n",
              "\n",
              "  <script>\n",
              "    async function quickchart(key) {\n",
              "      const quickchartButtonEl =\n",
              "        document.querySelector('#' + key + ' button');\n",
              "      quickchartButtonEl.disabled = true;  // To prevent multiple clicks.\n",
              "      quickchartButtonEl.classList.add('colab-df-spinner');\n",
              "      try {\n",
              "        const charts = await google.colab.kernel.invokeFunction(\n",
              "            'suggestCharts', [key], {});\n",
              "      } catch (error) {\n",
              "        console.error('Error during call to suggestCharts:', error);\n",
              "      }\n",
              "      quickchartButtonEl.classList.remove('colab-df-spinner');\n",
              "      quickchartButtonEl.classList.add('colab-df-quickchart-complete');\n",
              "    }\n",
              "    (() => {\n",
              "      let quickchartButtonEl =\n",
              "        document.querySelector('#df-3a75eb60-a82c-4abb-99ca-d14ffd81278e button');\n",
              "      quickchartButtonEl.style.display =\n",
              "        google.colab.kernel.accessAllowed ? 'block' : 'none';\n",
              "    })();\n",
              "  </script>\n",
              "</div>\n",
              "    </div>\n",
              "  </div>\n"
            ],
            "application/vnd.google.colaboratory.intrinsic+json": {
              "type": "dataframe",
              "variable_name": "ewe_english_data",
              "summary": "{\n  \"name\": \"ewe_english_data\",\n  \"rows\": 28614,\n  \"fields\": [\n    {\n      \"column\": \"Unnamed: 0\",\n      \"properties\": {\n        \"dtype\": \"number\",\n        \"std\": 8260,\n        \"min\": 0,\n        \"max\": 28613,\n        \"num_unique_values\": 28614,\n        \"samples\": [\n          27922,\n          1660,\n          96\n        ],\n        \"semantic_type\": \"\",\n        \"description\": \"\"\n      }\n    },\n    {\n      \"column\": \"EWE\",\n      \"properties\": {\n        \"dtype\": \"string\",\n        \"num_unique_values\": 26978,\n        \"samples\": [\n          \"Ale si w\\u00f2dz\\u0254e be anyigba la li ke le yame\",\n          \"23 Eye wokpl\\u0254 fia at\\u0254\\u0303awo tso agado la me v\\u025b n\\u025b: Yerusalem-fia, Hebron-fia, Yarmut-fia, Lakis-fia kple Eglon-fia.\",\n          \"14 Esi won\\u0254 afi ma \\u014bkeke ge\\u0256e ta la, Festo ts\\u0254 Paulo \\u0192e nya la \\u0256o fia la \\u014bkume be: \\\"Felike gbl\\u1ebd \\u014butsu a\\u0256e \\u0256e ga me, 15 eye esi meyi Yerusalem la, nun\\u0254lawo \\u0192e tat\\u0254wo kple Yudat\\u0254wo \\u0192e ameg\\u00e3wo ts\\u0254 nya \\u0256e e\\u014bu hebia be mabu f\\u0254e. 16 Ke me\\u0256o e\\u014bu na wo be menye Romat\\u0254wo \\u0192e \\u0256o\\u0256o w\\u00f2nye be woats\\u0254 ame ade asi, kple susu be woadze ame \\u014bu, hafi ame si nu wotso la kple enutsolawo nakpe \\u014bkume kple \\u014bkume, ne w\\u00f2a\\u028bli e\\u0256okui ta o.\"\n        ],\n        \"semantic_type\": \"\",\n        \"description\": \"\"\n      }\n    },\n    {\n      \"column\": \"ENGLISH\",\n      \"properties\": {\n        \"dtype\": \"string\",\n        \"num_unique_values\": 26604,\n        \"samples\": [\n          \"Brother Klimov was arrested on June 3, 2018, after law enforcement, including special forces, invaded two homes of Jehovah\\u2019s Witnesses.\",\n          \"23 And at once there was in their synagogue a man with an unclean spirit, and he screamed out 24 \\\"What have you to do with us, Jesus, you Nazarene? have you come to destroy us?\",\n          \"(Job 31:1, Today\\u2019s English Version)\"\n        ],\n        \"semantic_type\": \"\",\n        \"description\": \"\"\n      }\n    }\n  ]\n}"
            }
          },
          "metadata": {},
          "execution_count": 3
        }
      ],
      "source": [
        "# Display the first few rows of the data\n",
        "ewe_english_data.head()"
      ]
    },
    {
      "cell_type": "code",
      "execution_count": 4,
      "metadata": {
        "id": "VNfrFFnIeIh3"
      },
      "outputs": [],
      "source": [
        "# Remove unnecessary columns\n",
        "ewe_english = ewe_english_data[['ENGLISH', 'EWE']]"
      ]
    },
    {
      "cell_type": "code",
      "execution_count": 5,
      "metadata": {
        "colab": {
          "base_uri": "https://localhost:8080/",
          "height": 206
        },
        "id": "Xqolz_bPd-PF",
        "outputId": "e81348d8-4fd3-4774-bcc1-2e4fcea703e2"
      },
      "outputs": [
        {
          "output_type": "execute_result",
          "data": {
            "text/plain": [
              "                                             ENGLISH  \\\n",
              "0  ﻿If a woman often loss his baby after he is bo...   \n",
              "1  This name comes from another person, which mea...   \n",
              "2  This person must not be part of the whole fami...   \n",
              "3  The ceremony is done as follow: the family of ...   \n",
              "4  When somebody passes through the road and find...   \n",
              "\n",
              "                                                 EWE  \n",
              "0  Ne nyɔnu aɖe le evi dzim eye wo le kukum nɛ la...  \n",
              "1  Ŋkɔ sia nye na ŋkɔ si ke ame bubu tsɔna na ɖev...  \n",
              "2  Ame si hɔ ɖevi la ƒlela tsona ƒome bubu me alo...  \n",
              "3  Kɔnua wo yina ale: evinɔ si ga dzi ɖevi bubu a...  \n",
              "4  Ne ame aɖe vayina to afimagodzi he kɔ ɖevia la...  "
            ],
            "text/html": [
              "\n",
              "  <div id=\"df-71416b99-a96f-4cbf-877e-167156afe988\" class=\"colab-df-container\">\n",
              "    <div>\n",
              "<style scoped>\n",
              "    .dataframe tbody tr th:only-of-type {\n",
              "        vertical-align: middle;\n",
              "    }\n",
              "\n",
              "    .dataframe tbody tr th {\n",
              "        vertical-align: top;\n",
              "    }\n",
              "\n",
              "    .dataframe thead th {\n",
              "        text-align: right;\n",
              "    }\n",
              "</style>\n",
              "<table border=\"1\" class=\"dataframe\">\n",
              "  <thead>\n",
              "    <tr style=\"text-align: right;\">\n",
              "      <th></th>\n",
              "      <th>ENGLISH</th>\n",
              "      <th>EWE</th>\n",
              "    </tr>\n",
              "  </thead>\n",
              "  <tbody>\n",
              "    <tr>\n",
              "      <th>0</th>\n",
              "      <td>﻿If a woman often loss his baby after he is bo...</td>\n",
              "      <td>Ne nyɔnu aɖe le evi dzim eye wo le kukum nɛ la...</td>\n",
              "    </tr>\n",
              "    <tr>\n",
              "      <th>1</th>\n",
              "      <td>This name comes from another person, which mea...</td>\n",
              "      <td>Ŋkɔ sia nye na ŋkɔ si ke ame bubu tsɔna na ɖev...</td>\n",
              "    </tr>\n",
              "    <tr>\n",
              "      <th>2</th>\n",
              "      <td>This person must not be part of the whole fami...</td>\n",
              "      <td>Ame si hɔ ɖevi la ƒlela tsona ƒome bubu me alo...</td>\n",
              "    </tr>\n",
              "    <tr>\n",
              "      <th>3</th>\n",
              "      <td>The ceremony is done as follow: the family of ...</td>\n",
              "      <td>Kɔnua wo yina ale: evinɔ si ga dzi ɖevi bubu a...</td>\n",
              "    </tr>\n",
              "    <tr>\n",
              "      <th>4</th>\n",
              "      <td>When somebody passes through the road and find...</td>\n",
              "      <td>Ne ame aɖe vayina to afimagodzi he kɔ ɖevia la...</td>\n",
              "    </tr>\n",
              "  </tbody>\n",
              "</table>\n",
              "</div>\n",
              "    <div class=\"colab-df-buttons\">\n",
              "\n",
              "  <div class=\"colab-df-container\">\n",
              "    <button class=\"colab-df-convert\" onclick=\"convertToInteractive('df-71416b99-a96f-4cbf-877e-167156afe988')\"\n",
              "            title=\"Convert this dataframe to an interactive table.\"\n",
              "            style=\"display:none;\">\n",
              "\n",
              "  <svg xmlns=\"http://www.w3.org/2000/svg\" height=\"24px\" viewBox=\"0 -960 960 960\">\n",
              "    <path d=\"M120-120v-720h720v720H120Zm60-500h600v-160H180v160Zm220 220h160v-160H400v160Zm0 220h160v-160H400v160ZM180-400h160v-160H180v160Zm440 0h160v-160H620v160ZM180-180h160v-160H180v160Zm440 0h160v-160H620v160Z\"/>\n",
              "  </svg>\n",
              "    </button>\n",
              "\n",
              "  <style>\n",
              "    .colab-df-container {\n",
              "      display:flex;\n",
              "      gap: 12px;\n",
              "    }\n",
              "\n",
              "    .colab-df-convert {\n",
              "      background-color: #E8F0FE;\n",
              "      border: none;\n",
              "      border-radius: 50%;\n",
              "      cursor: pointer;\n",
              "      display: none;\n",
              "      fill: #1967D2;\n",
              "      height: 32px;\n",
              "      padding: 0 0 0 0;\n",
              "      width: 32px;\n",
              "    }\n",
              "\n",
              "    .colab-df-convert:hover {\n",
              "      background-color: #E2EBFA;\n",
              "      box-shadow: 0px 1px 2px rgba(60, 64, 67, 0.3), 0px 1px 3px 1px rgba(60, 64, 67, 0.15);\n",
              "      fill: #174EA6;\n",
              "    }\n",
              "\n",
              "    .colab-df-buttons div {\n",
              "      margin-bottom: 4px;\n",
              "    }\n",
              "\n",
              "    [theme=dark] .colab-df-convert {\n",
              "      background-color: #3B4455;\n",
              "      fill: #D2E3FC;\n",
              "    }\n",
              "\n",
              "    [theme=dark] .colab-df-convert:hover {\n",
              "      background-color: #434B5C;\n",
              "      box-shadow: 0px 1px 3px 1px rgba(0, 0, 0, 0.15);\n",
              "      filter: drop-shadow(0px 1px 2px rgba(0, 0, 0, 0.3));\n",
              "      fill: #FFFFFF;\n",
              "    }\n",
              "  </style>\n",
              "\n",
              "    <script>\n",
              "      const buttonEl =\n",
              "        document.querySelector('#df-71416b99-a96f-4cbf-877e-167156afe988 button.colab-df-convert');\n",
              "      buttonEl.style.display =\n",
              "        google.colab.kernel.accessAllowed ? 'block' : 'none';\n",
              "\n",
              "      async function convertToInteractive(key) {\n",
              "        const element = document.querySelector('#df-71416b99-a96f-4cbf-877e-167156afe988');\n",
              "        const dataTable =\n",
              "          await google.colab.kernel.invokeFunction('convertToInteractive',\n",
              "                                                    [key], {});\n",
              "        if (!dataTable) return;\n",
              "\n",
              "        const docLinkHtml = 'Like what you see? Visit the ' +\n",
              "          '<a target=\"_blank\" href=https://colab.research.google.com/notebooks/data_table.ipynb>data table notebook</a>'\n",
              "          + ' to learn more about interactive tables.';\n",
              "        element.innerHTML = '';\n",
              "        dataTable['output_type'] = 'display_data';\n",
              "        await google.colab.output.renderOutput(dataTable, element);\n",
              "        const docLink = document.createElement('div');\n",
              "        docLink.innerHTML = docLinkHtml;\n",
              "        element.appendChild(docLink);\n",
              "      }\n",
              "    </script>\n",
              "  </div>\n",
              "\n",
              "\n",
              "<div id=\"df-af851694-865a-4726-8f49-0c96adb7579b\">\n",
              "  <button class=\"colab-df-quickchart\" onclick=\"quickchart('df-af851694-865a-4726-8f49-0c96adb7579b')\"\n",
              "            title=\"Suggest charts\"\n",
              "            style=\"display:none;\">\n",
              "\n",
              "<svg xmlns=\"http://www.w3.org/2000/svg\" height=\"24px\"viewBox=\"0 0 24 24\"\n",
              "     width=\"24px\">\n",
              "    <g>\n",
              "        <path d=\"M19 3H5c-1.1 0-2 .9-2 2v14c0 1.1.9 2 2 2h14c1.1 0 2-.9 2-2V5c0-1.1-.9-2-2-2zM9 17H7v-7h2v7zm4 0h-2V7h2v10zm4 0h-2v-4h2v4z\"/>\n",
              "    </g>\n",
              "</svg>\n",
              "  </button>\n",
              "\n",
              "<style>\n",
              "  .colab-df-quickchart {\n",
              "      --bg-color: #E8F0FE;\n",
              "      --fill-color: #1967D2;\n",
              "      --hover-bg-color: #E2EBFA;\n",
              "      --hover-fill-color: #174EA6;\n",
              "      --disabled-fill-color: #AAA;\n",
              "      --disabled-bg-color: #DDD;\n",
              "  }\n",
              "\n",
              "  [theme=dark] .colab-df-quickchart {\n",
              "      --bg-color: #3B4455;\n",
              "      --fill-color: #D2E3FC;\n",
              "      --hover-bg-color: #434B5C;\n",
              "      --hover-fill-color: #FFFFFF;\n",
              "      --disabled-bg-color: #3B4455;\n",
              "      --disabled-fill-color: #666;\n",
              "  }\n",
              "\n",
              "  .colab-df-quickchart {\n",
              "    background-color: var(--bg-color);\n",
              "    border: none;\n",
              "    border-radius: 50%;\n",
              "    cursor: pointer;\n",
              "    display: none;\n",
              "    fill: var(--fill-color);\n",
              "    height: 32px;\n",
              "    padding: 0;\n",
              "    width: 32px;\n",
              "  }\n",
              "\n",
              "  .colab-df-quickchart:hover {\n",
              "    background-color: var(--hover-bg-color);\n",
              "    box-shadow: 0 1px 2px rgba(60, 64, 67, 0.3), 0 1px 3px 1px rgba(60, 64, 67, 0.15);\n",
              "    fill: var(--button-hover-fill-color);\n",
              "  }\n",
              "\n",
              "  .colab-df-quickchart-complete:disabled,\n",
              "  .colab-df-quickchart-complete:disabled:hover {\n",
              "    background-color: var(--disabled-bg-color);\n",
              "    fill: var(--disabled-fill-color);\n",
              "    box-shadow: none;\n",
              "  }\n",
              "\n",
              "  .colab-df-spinner {\n",
              "    border: 2px solid var(--fill-color);\n",
              "    border-color: transparent;\n",
              "    border-bottom-color: var(--fill-color);\n",
              "    animation:\n",
              "      spin 1s steps(1) infinite;\n",
              "  }\n",
              "\n",
              "  @keyframes spin {\n",
              "    0% {\n",
              "      border-color: transparent;\n",
              "      border-bottom-color: var(--fill-color);\n",
              "      border-left-color: var(--fill-color);\n",
              "    }\n",
              "    20% {\n",
              "      border-color: transparent;\n",
              "      border-left-color: var(--fill-color);\n",
              "      border-top-color: var(--fill-color);\n",
              "    }\n",
              "    30% {\n",
              "      border-color: transparent;\n",
              "      border-left-color: var(--fill-color);\n",
              "      border-top-color: var(--fill-color);\n",
              "      border-right-color: var(--fill-color);\n",
              "    }\n",
              "    40% {\n",
              "      border-color: transparent;\n",
              "      border-right-color: var(--fill-color);\n",
              "      border-top-color: var(--fill-color);\n",
              "    }\n",
              "    60% {\n",
              "      border-color: transparent;\n",
              "      border-right-color: var(--fill-color);\n",
              "    }\n",
              "    80% {\n",
              "      border-color: transparent;\n",
              "      border-right-color: var(--fill-color);\n",
              "      border-bottom-color: var(--fill-color);\n",
              "    }\n",
              "    90% {\n",
              "      border-color: transparent;\n",
              "      border-bottom-color: var(--fill-color);\n",
              "    }\n",
              "  }\n",
              "</style>\n",
              "\n",
              "  <script>\n",
              "    async function quickchart(key) {\n",
              "      const quickchartButtonEl =\n",
              "        document.querySelector('#' + key + ' button');\n",
              "      quickchartButtonEl.disabled = true;  // To prevent multiple clicks.\n",
              "      quickchartButtonEl.classList.add('colab-df-spinner');\n",
              "      try {\n",
              "        const charts = await google.colab.kernel.invokeFunction(\n",
              "            'suggestCharts', [key], {});\n",
              "      } catch (error) {\n",
              "        console.error('Error during call to suggestCharts:', error);\n",
              "      }\n",
              "      quickchartButtonEl.classList.remove('colab-df-spinner');\n",
              "      quickchartButtonEl.classList.add('colab-df-quickchart-complete');\n",
              "    }\n",
              "    (() => {\n",
              "      let quickchartButtonEl =\n",
              "        document.querySelector('#df-af851694-865a-4726-8f49-0c96adb7579b button');\n",
              "      quickchartButtonEl.style.display =\n",
              "        google.colab.kernel.accessAllowed ? 'block' : 'none';\n",
              "    })();\n",
              "  </script>\n",
              "</div>\n",
              "    </div>\n",
              "  </div>\n"
            ],
            "application/vnd.google.colaboratory.intrinsic+json": {
              "type": "dataframe",
              "variable_name": "ewe_english",
              "summary": "{\n  \"name\": \"ewe_english\",\n  \"rows\": 28614,\n  \"fields\": [\n    {\n      \"column\": \"ENGLISH\",\n      \"properties\": {\n        \"dtype\": \"string\",\n        \"num_unique_values\": 26604,\n        \"samples\": [\n          \"Brother Klimov was arrested on June 3, 2018, after law enforcement, including special forces, invaded two homes of Jehovah\\u2019s Witnesses.\",\n          \"23 And at once there was in their synagogue a man with an unclean spirit, and he screamed out 24 \\\"What have you to do with us, Jesus, you Nazarene? have you come to destroy us?\",\n          \"(Job 31:1, Today\\u2019s English Version)\"\n        ],\n        \"semantic_type\": \"\",\n        \"description\": \"\"\n      }\n    },\n    {\n      \"column\": \"EWE\",\n      \"properties\": {\n        \"dtype\": \"string\",\n        \"num_unique_values\": 26978,\n        \"samples\": [\n          \"Ale si w\\u00f2dz\\u0254e be anyigba la li ke le yame\",\n          \"23 Eye wokpl\\u0254 fia at\\u0254\\u0303awo tso agado la me v\\u025b n\\u025b: Yerusalem-fia, Hebron-fia, Yarmut-fia, Lakis-fia kple Eglon-fia.\",\n          \"14 Esi won\\u0254 afi ma \\u014bkeke ge\\u0256e ta la, Festo ts\\u0254 Paulo \\u0192e nya la \\u0256o fia la \\u014bkume be: \\\"Felike gbl\\u1ebd \\u014butsu a\\u0256e \\u0256e ga me, 15 eye esi meyi Yerusalem la, nun\\u0254lawo \\u0192e tat\\u0254wo kple Yudat\\u0254wo \\u0192e ameg\\u00e3wo ts\\u0254 nya \\u0256e e\\u014bu hebia be mabu f\\u0254e. 16 Ke me\\u0256o e\\u014bu na wo be menye Romat\\u0254wo \\u0192e \\u0256o\\u0256o w\\u00f2nye be woats\\u0254 ame ade asi, kple susu be woadze ame \\u014bu, hafi ame si nu wotso la kple enutsolawo nakpe \\u014bkume kple \\u014bkume, ne w\\u00f2a\\u028bli e\\u0256okui ta o.\"\n        ],\n        \"semantic_type\": \"\",\n        \"description\": \"\"\n      }\n    }\n  ]\n}"
            }
          },
          "metadata": {},
          "execution_count": 5
        }
      ],
      "source": [
        "# Display the first few rows of the data\n",
        "ewe_english.head()"
      ]
    },
    {
      "cell_type": "code",
      "execution_count": 6,
      "metadata": {
        "colab": {
          "base_uri": "https://localhost:8080/"
        },
        "id": "iygQV48Qd7tH",
        "outputId": "b2a54940-5a9b-4caa-b07a-a31056fb3125"
      },
      "outputs": [
        {
          "output_type": "stream",
          "name": "stdout",
          "text": [
            "                                             ENGLISH  \\\n",
            "0  ﻿If a woman often loss his baby after he is bo...   \n",
            "1  This name comes from another person, which mea...   \n",
            "2  This person must not be part of the whole fami...   \n",
            "3  The ceremony is done as follow: the family of ...   \n",
            "4  When somebody passes through the road and find...   \n",
            "\n",
            "                                                 EWE  \n",
            "0  Ne nyɔnu aɖe le evi dzim eye wo le kukum nɛ la...  \n",
            "1  Ŋkɔ sia nye na ŋkɔ si ke ame bubu tsɔna na ɖev...  \n",
            "2  Ame si hɔ ɖevi la ƒlela tsona ƒome bubu me alo...  \n",
            "3  Kɔnua wo yina ale: evinɔ si ga dzi ɖevi bubu a...  \n",
            "4  Ne ame aɖe vayina to afimagodzi he kɔ ɖevia la...  \n"
          ]
        }
      ],
      "source": [
        "# Drop any rows with missing values by creating a new DataFrame\n",
        "ewe_english_cleaned = ewe_english.dropna().reset_index(drop=True)\n",
        "print(ewe_english_cleaned.head())"
      ]
    },
    {
      "cell_type": "markdown",
      "metadata": {
        "id": "gzsRWk1adTF0"
      },
      "source": [
        "Tokenization and Preprocessing"
      ]
    },
    {
      "cell_type": "code",
      "execution_count": 7,
      "metadata": {
        "colab": {
          "base_uri": "https://localhost:8080/"
        },
        "id": "B_UZJzUNfKU2",
        "outputId": "b12c5b4c-9beb-4229-a986-34affe554ab5"
      },
      "outputs": [
        {
          "output_type": "stream",
          "name": "stdout",
          "text": [
            "[('\\ufeffIf', 1), ('a', 2), ('woman', 3), ('often', 4), ('loss', 5), ('his', 6), ('baby', 7), ('after', 8), ('he', 9), ('is', 10)]\n",
            "[('Ne', 1), ('nyɔnu', 2), ('aɖe', 3), ('le', 4), ('evi', 5), ('dzim', 6), ('eye', 7), ('wo', 8), ('kukum', 9), ('nɛ', 10)]\n"
          ]
        }
      ],
      "source": [
        "#Create a Vocabulary\n",
        "def build_vocab(sentences):\n",
        "    # Split each sentence into words and flatten the list\n",
        "    words = [word for sentence in sentences for word in sentence.split()]\n",
        "    # Count the frequency of each word\n",
        "    word_counts = Counter(words)\n",
        "    # Create a vocabulary dictionary mapping each word to a unique index\n",
        "    vocab = {word: idx + 1 for idx, (word, _) in enumerate(word_counts.items())}\n",
        "    # Add a special token for padding\n",
        "    vocab['<PAD>'] = 0\n",
        "    return vocab\n",
        "\n",
        "# Build vocabularies for English and Ewe\n",
        "english_vocab = build_vocab(ewe_english_cleaned['ENGLISH'])\n",
        "ewe_vocab = build_vocab(ewe_english_cleaned['EWE'])\n",
        "\n",
        "print(list(english_vocab.items())[:10])\n",
        "print(list(ewe_vocab.items())[:10])\n"
      ]
    },
    {
      "cell_type": "code",
      "execution_count": 8,
      "metadata": {
        "colab": {
          "base_uri": "https://localhost:8080/"
        },
        "id": "OOMIn1S5dUWJ",
        "outputId": "b6dd5023-010e-4b48-cb9d-0b66af1725be"
      },
      "outputs": [
        {
          "output_type": "stream",
          "name": "stdout",
          "text": [
            "[('\\ufeffIf', 1), ('a', 2), ('woman', 3), ('often', 4), ('loss', 5), ('his', 6), ('baby', 7), ('after', 8), ('he', 9), ('is', 10)]\n",
            "[(1, 'Ne'), (2, 'nyɔnu'), (3, 'aɖe'), (4, 'le'), (5, 'evi'), (6, 'dzim'), (7, 'eye'), (8, 'wo'), (9, 'kukum'), (10, 'nɛ')]\n"
          ]
        }
      ],
      "source": [
        "# Create Word to Index and Index to Word Mappings\n",
        "def create_mappings(vocab):\n",
        "    word_to_index = vocab\n",
        "    index_to_word = {idx: word for word, idx in vocab.items()}\n",
        "    return word_to_index, index_to_word\n",
        "\n",
        "# Create mappings for English and Ewe\n",
        "english_word_to_index, english_index_to_word = create_mappings(english_vocab)\n",
        "ewe_word_to_index, ewe_index_to_word = create_mappings(ewe_vocab)\n",
        "\n",
        "print(list(english_word_to_index.items())[:10])\n",
        "print(list(ewe_index_to_word.items())[:10])"
      ]
    },
    {
      "cell_type": "code",
      "execution_count": 9,
      "metadata": {
        "colab": {
          "base_uri": "https://localhost:8080/"
        },
        "id": "t0ja8Hk7jaeH",
        "outputId": "3a13f3fa-32b2-4be1-9dcf-a1d236575a99"
      },
      "outputs": [
        {
          "output_type": "stream",
          "name": "stdout",
          "text": [
            "                                             ENGLISH  \\\n",
            "0  ﻿If a woman often loss his baby after he is bo...   \n",
            "1  This name comes from another person, which mea...   \n",
            "2  This person must not be part of the whole fami...   \n",
            "3  The ceremony is done as follow: the family of ...   \n",
            "4  When somebody passes through the road and find...   \n",
            "\n",
            "                                                 EWE  \\\n",
            "0  Ne nyɔnu aɖe le evi dzim eye wo le kukum nɛ la...   \n",
            "1  Ŋkɔ sia nye na ŋkɔ si ke ame bubu tsɔna na ɖev...   \n",
            "2  Ame si hɔ ɖevi la ƒlela tsona ƒome bubu me alo...   \n",
            "3  Kɔnua wo yina ale: evinɔ si ga dzi ɖevi bubu a...   \n",
            "4  Ne ame aɖe vayina to afimagodzi he kɔ ɖevia la...   \n",
            "\n",
            "                                         ENGLISH_seq  \\\n",
            "0  [1, 2, 3, 4, 5, 6, 7, 8, 9, 10, 11, 12, 13, 2,...   \n",
            "1  [33, 27, 34, 35, 26, 36, 37, 38, 28, 22, 39, 4...   \n",
            "2  [33, 39, 43, 44, 45, 46, 15, 18, 47, 48, 15, 1...   \n",
            "3  [64, 16, 10, 65, 66, 67, 18, 48, 15, 18, 30, 7...   \n",
            "4  [93, 94, 95, 90, 18, 74, 21, 96, 21, 97, 18, 4...   \n",
            "\n",
            "                                             EWE_seq  \n",
            "0  [1, 2, 3, 4, 5, 6, 7, 8, 4, 9, 10, 11, 12, 13,...  \n",
            "1  [33, 34, 35, 15, 22, 18, 31, 36, 23, 37, 15, 3...  \n",
            "2  [46, 18, 47, 16, 25, 48, 49, 50, 23, 29, 51, 5...  \n",
            "3  [64, 8, 65, 66, 67, 18, 19, 20, 16, 23, 51, 5,...  \n",
            "4  [1, 36, 3, 85, 21, 86, 71, 87, 38, 11, 4, 88, ...  \n"
          ]
        }
      ],
      "source": [
        "#Convert Sentences to Sequences\n",
        "def text_to_sequence(text, word_to_index):\n",
        "    return [word_to_index[word] for word in text.split()]\n",
        "\n",
        "# Convert sentences to sequences\n",
        "ewe_english_cleaned['ENGLISH_seq'] = ewe_english_cleaned['ENGLISH'].apply(lambda x: text_to_sequence(x, english_word_to_index))\n",
        "ewe_english_cleaned['EWE_seq'] = ewe_english_cleaned['EWE'].apply(lambda x: text_to_sequence(x, ewe_word_to_index))\n",
        "\n",
        "print(ewe_english_cleaned.head())"
      ]
    },
    {
      "cell_type": "code",
      "execution_count": 10,
      "metadata": {
        "id": "zwup28KzlLkJ"
      },
      "outputs": [],
      "source": [
        "# Load and preprocess the data\n",
        "ewe_english_cleaned = ewe_english_cleaned[['ENGLISH_seq', 'EWE_seq']]"
      ]
    },
    {
      "cell_type": "code",
      "execution_count": 11,
      "metadata": {
        "id": "biGCmeuklfGH"
      },
      "outputs": [],
      "source": [
        "max_len_en = max(ewe_english_cleaned['ENGLISH_seq'].apply(len))\n",
        "max_len_ewe = max(ewe_english_cleaned['EWE_seq'].apply(len))\n",
        "\n",
        "encoder_input_data = pad_sequences(ewe_english_cleaned['ENGLISH_seq'], maxlen=max_len_en, padding='post')\n",
        "decoder_input_data = pad_sequences(ewe_english_cleaned['EWE_seq'], maxlen=max_len_ewe, padding='post')\n",
        "\n",
        "# Create target data for decoder by shifting the decoder input by one time step\n",
        "decoder_target_data = np.zeros_like(decoder_input_data)\n",
        "decoder_target_data[:, :-1] = decoder_input_data[:, 1:]\n",
        "decoder_target_data[:, -1] = 0\n"
      ]
    },
    {
      "cell_type": "code",
      "execution_count": 12,
      "metadata": {
        "id": "-ddft7K-mBaS"
      },
      "outputs": [],
      "source": [
        "# Split the data into training and validation sets\n",
        "encoder_input_train, encoder_input_val, decoder_input_train, decoder_input_val, decoder_target_train, decoder_target_val = train_test_split(\n",
        "    encoder_input_data, decoder_input_data, decoder_target_data, test_size=0.2\n",
        ")"
      ]
    },
    {
      "cell_type": "markdown",
      "metadata": {
        "id": "_7zjqTYKQ9Yj"
      },
      "source": [
        "Modeling"
      ]
    },
    {
      "cell_type": "markdown",
      "metadata": {
        "id": "ehHtU0oimUAK"
      },
      "source": [
        "Model Architecture"
      ]
    },
    {
      "cell_type": "code",
      "execution_count": 13,
      "metadata": {
        "colab": {
          "base_uri": "https://localhost:8080/"
        },
        "id": "1cSwi-_tmTnr",
        "outputId": "9a6dcc7f-dd48-4f0d-ad4e-5db39d0c85a4"
      },
      "outputs": [
        {
          "output_type": "stream",
          "name": "stdout",
          "text": [
            "Model: \"model\"\n",
            "__________________________________________________________________________________________________\n",
            " Layer (type)                Output Shape                 Param #   Connected to                  \n",
            "==================================================================================================\n",
            " encoder_inputs (InputLayer  [(None, None)]               0         []                            \n",
            " )                                                                                                \n",
            "                                                                                                  \n",
            " decoder_inputs (InputLayer  [(None, None)]               0         []                            \n",
            " )                                                                                                \n",
            "                                                                                                  \n",
            " encoder_embedding (Embeddi  (None, None, 256)            1212339   ['encoder_inputs[0][0]']      \n",
            " ng)                                                      2                                       \n",
            "                                                                                                  \n",
            " decoder_embedding (Embeddi  (None, None, 256)            1081523   ['decoder_inputs[0][0]']      \n",
            " ng)                                                      2                                       \n",
            "                                                                                                  \n",
            " encoder_lstm (LSTM)         [(None, 256),                525312    ['encoder_embedding[0][0]']   \n",
            "                              (None, 256),                                                        \n",
            "                              (None, 256)]                                                        \n",
            "                                                                                                  \n",
            " decoder_lstm (LSTM)         [(None, None, 256),          525312    ['decoder_embedding[0][0]',   \n",
            "                              (None, 256),                           'encoder_lstm[0][1]',        \n",
            "                              (None, 256)]                           'encoder_lstm[0][2]']        \n",
            "                                                                                                  \n",
            " attention_layer (Attention  (None, None, 256)            0         ['decoder_lstm[0][0]',        \n",
            " )                                                                   'encoder_lstm[0][0]']        \n",
            "                                                                                                  \n",
            " concat_layer (Concatenate)  (None, None, 512)            0         ['decoder_lstm[0][0]',        \n",
            "                                                                     'attention_layer[0][0]']     \n",
            "                                                                                                  \n",
            " decoder_dense (Dense)       (None, None, 42247)          2167271   ['concat_layer[0][0]']        \n",
            "                                                          1                                       \n",
            "                                                                                                  \n",
            "==================================================================================================\n",
            "Total params: 45661959 (174.19 MB)\n",
            "Trainable params: 45661959 (174.19 MB)\n",
            "Non-trainable params: 0 (0.00 Byte)\n",
            "__________________________________________________________________________________________________\n"
          ]
        }
      ],
      "source": [
        "# Define parameters\n",
        "num_encoder_tokens = len(english_vocab)\n",
        "num_decoder_tokens = len(ewe_vocab)\n",
        "latent_dim = 256\n",
        "\n",
        "# Define the encoder\n",
        "encoder_inputs = Input(shape=(None,), name='encoder_inputs')\n",
        "encoder_embedding = Embedding(input_dim=num_encoder_tokens, output_dim=latent_dim, name='encoder_embedding')(encoder_inputs)\n",
        "encoder_lstm = LSTM(latent_dim, return_state=True, name='encoder_lstm')\n",
        "encoder_outputs, state_h, state_c = encoder_lstm(encoder_embedding)\n",
        "encoder_states = [state_h, state_c]\n",
        "\n",
        "# Define the decoder\n",
        "decoder_inputs = Input(shape=(None,), name='decoder_inputs')\n",
        "decoder_embedding = Embedding(input_dim=num_decoder_tokens, output_dim=latent_dim, name='decoder_embedding')(decoder_inputs)\n",
        "decoder_lstm = LSTM(latent_dim, return_sequences=True, return_state=True, name='decoder_lstm')\n",
        "decoder_outputs, _, _ = decoder_lstm(decoder_embedding, initial_state=encoder_states)\n",
        "\n",
        "# Attention mechanism\n",
        "attention = tf.keras.layers.Attention(name='attention_layer')\n",
        "attention_result = attention([decoder_outputs, encoder_outputs])\n",
        "decoder_concat_input = tf.keras.layers.Concatenate(axis=-1, name='concat_layer')([decoder_outputs, attention_result])\n",
        "\n",
        "# Dense layer to predict the next word\n",
        "decoder_dense = Dense(num_decoder_tokens, activation='softmax', name='decoder_dense')\n",
        "decoder_outputs = decoder_dense(decoder_concat_input)\n",
        "\n",
        "# Define the model\n",
        "model = Model([encoder_inputs, decoder_inputs], decoder_outputs)\n",
        "\n",
        "# Early stopping callback\n",
        "early_stopping = EarlyStopping(monitor='val_loss', patience=3, restore_best_weights=True)\n",
        "\n",
        "# Compile the model\n",
        "model.compile(optimizer='rmsprop', loss='sparse_categorical_crossentropy')\n",
        "\n",
        "# Summary of the model\n",
        "model.summary()\n"
      ]
    },
    {
      "cell_type": "markdown",
      "metadata": {
        "id": "8D6z21CHoyP4"
      },
      "source": [
        "Training the Model"
      ]
    },
    {
      "cell_type": "code",
      "execution_count": null,
      "metadata": {
        "colab": {
          "base_uri": "https://localhost:8080/"
        },
        "id": "t8NBN8vkkQRf",
        "outputId": "080e4316-8873-46c9-c0c5-684e9c89cde1"
      },
      "outputs": [
        {
          "output_type": "stream",
          "name": "stdout",
          "text": [
            "Epoch 1/5\n"
          ]
        }
      ],
      "source": [
        "# Expand the target data for sparse_categorical_crossentropy\n",
        "decoder_target_train = np.expand_dims(decoder_target_train, -1)\n",
        "decoder_target_val = np.expand_dims(decoder_target_val, -1)\n",
        "\n",
        "# Train the model\n",
        "history = model.fit(\n",
        "    [encoder_input_train, decoder_input_train], decoder_target_train,\n",
        "    batch_size=128,\n",
        "    epochs=5,\n",
        "    validation_data=([encoder_input_val, decoder_input_val], decoder_target_val))\n"
      ]
    },
    {
      "cell_type": "markdown",
      "metadata": {
        "id": "bSFdyzULRGeL"
      },
      "source": [
        "Inference"
      ]
    },
    {
      "cell_type": "code",
      "execution_count": null,
      "metadata": {
        "id": "cADdstXZu0xn"
      },
      "outputs": [],
      "source": [
        "# encoder model for inference\n",
        "encoder_model = Model(encoder_inputs, encoder_states)\n",
        "\n",
        "# decoder model for inference\n",
        "decoder_state_input_h = Input(shape=(latent_dim,))\n",
        "decoder_state_input_c = Input(shape=(latent_dim,))\n",
        "decoder_states_inputs = [decoder_state_input_h, decoder_state_input_c]\n",
        "\n",
        "decoder_outputs, state_h, state_c = decoder_lstm(\n",
        "    decoder_embedding(decoder_inputs), initial_state=decoder_states_inputs)\n",
        "decoder_states = [state_h, state_c]\n",
        "\n",
        "attention_result = attention([decoder_outputs, encoder_outputs])\n",
        "decoder_concat_input = tf.keras.layers.Concatenate(axis=-1)([decoder_outputs, attention_result])\n",
        "decoder_outputs = decoder_dense(decoder_concat_input)\n",
        "\n",
        "decoder_model = Model(\n",
        "    [decoder_inputs] + decoder_states_inputs,\n",
        "    [decoder_outputs] + decoder_states\n",
        ")"
      ]
    },
    {
      "cell_type": "code",
      "execution_count": null,
      "metadata": {
        "id": "yeir4FLNue_G"
      },
      "outputs": [],
      "source": [
        "# Function to decode sequences\n",
        "def decode_sequence(input_seq):\n",
        "    # Encode the input as state vectors.\n",
        "    states_value = encoder_model.predict(input_seq)\n",
        "\n",
        "    # Generate empty target sequence of length 1.\n",
        "    target_seq = np.zeros((1, 1))\n",
        "    # Populate the first token of target sequence with the start token.\n",
        "    target_seq[0, 0] = ewe_word_index.get('<start>', 1)\n",
        "\n",
        "    # Sampling loop for a batch of sequences\n",
        "    stop_condition = False\n",
        "    decoded_sentence = ''\n",
        "    while not stop_condition:\n",
        "        output_tokens, h, c = decoder_model.predict(\n",
        "            [target_seq] + states_value)\n",
        "\n",
        "        # Sample a token\n",
        "        sampled_token_index = np.argmax(output_tokens[0, -1, :])\n",
        "        sampled_char = ewe_tokenizer.index_word.get(sampled_token_index, '')\n",
        "\n",
        "        decoded_sentence += ' ' + sampled_char\n",
        "\n",
        "        # Exit condition: either hit max length or find stop token.\n",
        "        if (sampled_char == '<end>' or len(decoded_sentence) > max_len_ewe):\n",
        "            stop_condition = True\n",
        "\n",
        "        # Update the target sequence (length 1).\n",
        "        target_seq = np.zeros((1, 1))\n",
        "        target_seq[0, 0] = sampled_token_index\n",
        "\n",
        "        # Update states\n",
        "        states_value = [h, c]\n",
        "\n",
        "    return decoded_sentence\n"
      ]
    },
    {
      "cell_type": "markdown",
      "metadata": {
        "id": "IvJysH_0vp2N"
      },
      "source": [
        "Pediction"
      ]
    },
    {
      "cell_type": "code",
      "execution_count": null,
      "metadata": {
        "id": "3o990ZP1vpG7"
      },
      "outputs": [],
      "source": [
        "# Prediction function\n",
        "def predict_translation(input_sentence):\n",
        "    input_seq = pad_sequences([english_tokenizer.texts_to_sequences([input_sentence])[0]], maxlen=max_len_en, padding='post')\n",
        "    translation = decode_sequence(input_seq)\n",
        "    return translation"
      ]
    },
    {
      "cell_type": "markdown",
      "metadata": {
        "id": "4kHgyMfpvwHv"
      },
      "source": [
        "Example translation"
      ]
    },
    {
      "cell_type": "code",
      "execution_count": null,
      "metadata": {
        "id": "ii2EA-JTvuqS"
      },
      "outputs": [],
      "source": [
        "input_sentence = \"It is not men of many days that are wise nor old men that understand what is right.\"\n",
        "translation = predict_translation(input_sentence)\n",
        "print(f\"Translation: {translation}\")"
      ]
    }
  ],
  "metadata": {
    "colab": {
      "provenance": [],
      "gpuType": "T4",
      "authorship_tag": "ABX9TyM9z2vTQIpRf2mKet3gxkKz",
      "include_colab_link": true
    },
    "kernelspec": {
      "display_name": "Python 3",
      "name": "python3"
    },
    "language_info": {
      "name": "python"
    },
    "accelerator": "GPU"
  },
  "nbformat": 4,
  "nbformat_minor": 0
}